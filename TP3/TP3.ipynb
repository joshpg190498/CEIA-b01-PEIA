{
 "cells": [
  {
   "cell_type": "markdown",
   "metadata": {},
   "source": [
    "## ENTREGA TP GRUPAL - PEIA - 19Cohorte\n",
    "\n",
    "### INTEGRANTES\n",
    "\n",
    "- Jose Perez\n",
    "- Gustavo Ramoscelli\n",
    "- Matias Tripode"
   ]
  },
  {
   "cell_type": "code",
   "execution_count": null,
   "metadata": {},
   "outputs": [],
   "source": [
    "# importar librerías necesarias para la realización de la asignación\n",
    "\n",
    "import pandas as pd\n",
    "import numpy as np\n"
   ]
  },
  {
   "cell_type": "code",
   "execution_count": 21,
   "metadata": {},
   "outputs": [],
   "source": [
    "# leer los datos del xlsx\n",
    "\n",
    "archivo = 'Datos_examen_final_19Co2024_Grupo3.xlsx'\n",
    "xlsx = pd.read_excel(archivo)\n",
    "sheets = ['Santa Ana', 'La Floresta', 'Los Cedros', 'Palermo', 'Córdoba']\n",
    "\n",
    "data = {sheet: pd.read_excel(archivo, sheet_name=sheet) for sheet in sheets}"
   ]
  },
  {
   "cell_type": "code",
   "execution_count": 22,
   "metadata": {},
   "outputs": [],
   "source": [
    "# cambiar de formato de fecha la columna \"Fecha\"\n",
    "\n",
    "for df in data.values():\n",
    "    df['Fecha'] = pd.to_datetime(df['Fecha'], format='%d/%m/%Y')\n",
    "    df['Mes'] = df['Fecha'].dt.month"
   ]
  },
  {
   "cell_type": "markdown",
   "metadata": {},
   "source": [
    "1. Determinen intervalos de confianza emp´ıricos para el supermercado ’Santa Ana’ en cada mes, para significancias del 95 % y el 99 %."
   ]
  },
  {
   "cell_type": "code",
   "execution_count": 48,
   "metadata": {},
   "outputs": [
    {
     "name": "stdout",
     "output_type": "stream",
     "text": [
      "1. Intervalos de confianza para el supermercado 'Santa Ana':\n",
      "\n",
      "Nivel de significancia: 95%\n",
      "  Mes 1: Intervalo (16967.00, 18798.25)\n",
      "  Mes 2: Intervalo (19322.11, 21657.34)\n",
      "  Mes 3: Intervalo (21402.52, 23397.62)\n",
      "  Mes 4: Intervalo (19710.43, 21896.29)\n",
      "  Mes 5: Intervalo (21304.57, 22861.87)\n",
      "  Mes 6: Intervalo (22969.87, 24677.59)\n",
      "  Mes 7: Intervalo (20729.87, 22772.57)\n",
      "  Mes 8: Intervalo (22413.99, 24540.78)\n",
      "  Mes 9: Intervalo (22370.09, 23857.72)\n",
      "  Mes 10: Intervalo (22202.88, 23961.88)\n",
      "  Mes 11: Intervalo (21617.80, 23730.47)\n",
      "  Mes 12: Intervalo (19625.12, 21363.70)\n",
      "\n",
      "Nivel de significancia: 99%\n",
      "  Mes 1: Intervalo (16644.92, 19120.33)\n",
      "  Mes 2: Intervalo (18916.09, 22063.36)\n",
      "  Mes 3: Intervalo (21053.26, 23746.88)\n",
      "  Mes 4: Intervalo (19329.55, 22277.17)\n",
      "  Mes 5: Intervalo (21032.22, 23134.22)\n",
      "  Mes 6: Intervalo (22670.37, 24977.09)\n",
      "  Mes 7: Intervalo (20374.28, 23128.16)\n",
      "  Mes 8: Intervalo (22040.44, 24914.34)\n",
      "  Mes 9: Intervalo (22109.77, 24118.04)\n",
      "  Mes 10: Intervalo (21894.57, 24270.19)\n",
      "  Mes 11: Intervalo (21253.50, 24094.77)\n",
      "  Mes 12: Intervalo (19324.51, 21664.30)\n"
     ]
    }
   ],
   "source": [
    "santa_ana = data['Santa Ana']\n",
    "\n",
    "confidence_intervals = {}\n",
    "alpha_values = [0.05, 0.01]\n",
    "for alpha in alpha_values:\n",
    "    intervals = {}\n",
    "    for month in santa_ana['Mes'].unique():\n",
    "        monthly_data = santa_ana[santa_ana['Mes'] == month]['Ventas']  # Filtrar datos por mes\n",
    "        n = len(monthly_data)  # Número de observaciones\n",
    "        mean = monthly_data.mean()  # Media muestral\n",
    "        std_dev = monthly_data.std()  # Desviación estándar muestral\n",
    "        std_err = std_dev / np.sqrt(n)  # Error estándar de la media\n",
    "        \n",
    "        # Valor crítico t (manual, usando np.percentile para aproximación)\n",
    "        t_critical = np.percentile(np.random.standard_t(df=n - 1, size=1000000), [100 * (1 - alpha / 2)])[0]\n",
    "        \n",
    "        # Cálculo del intervalo\n",
    "        ci_lower = mean - t_critical * std_err\n",
    "        ci_upper = mean + t_critical * std_err\n",
    "        intervals[month] = (ci_lower, ci_upper)\n",
    "    confidence_intervals[alpha] = intervals\n",
    "\n",
    "print(\"1. Intervalos de confianza para el supermercado 'Santa Ana':\")\n",
    "for alpha, intervals in confidence_intervals.items():\n",
    "    print(f\"\\nNivel de significancia: {1-alpha:.0%}\")\n",
    "    for month, ci in intervals.items():\n",
    "        print(f\"  Mes {month}: Intervalo ({ci[0]:.2f}, {ci[1]:.2f})\")"
   ]
  },
  {
   "cell_type": "markdown",
   "metadata": {},
   "source": [
    "2. Realicen pruebas ANOVA para determinar si las ventas esperadas de todas las tiendas son iguales o no, con significancia del 95"
   ]
  },
  {
   "cell_type": "code",
   "execution_count": 47,
   "metadata": {},
   "outputs": [
    {
     "name": "stdout",
     "output_type": "stream",
     "text": [
      "\n",
      "2. Prueba ANOVA:\n",
      "  Estadístico F: 114.45\n",
      "  Valor crítico F: 2.06\n",
      "  P-valor: 0.0000e+00\n",
      "  Las diferencias en las medias de las ventas entre las tiendas SON significativas.\n"
     ]
    }
   ],
   "source": [
    "# Combina las ventas de todas las tiendas en un único DataFrame, etiquetando por tienda\n",
    "ventas_data = pd.concat([df[['Fecha', 'Ventas']].assign(Tienda=tienda) for tienda, df in data.items()])\n",
    "\n",
    "# Cálculo de sumas de cuadrados\n",
    "overall_mean = ventas_data['Ventas'].mean()  # Media global\n",
    "SCE = sum(len(df) * (df['Ventas'].mean() - overall_mean) ** 2 for df in data.values())  # Suma de cuadrados entre grupos\n",
    "SCD = sum(((df['Ventas'] - df['Ventas'].mean()) ** 2).sum() for df in data.values())  # Suma de cuadrados dentro de grupos\n",
    "\n",
    "# Grados de libertad\n",
    "gl_entre = len(data) - 1  # Número de grupos - 1\n",
    "gl_dentro = len(ventas_data) - len(data)  # Total de observaciones - número de grupos\n",
    "\n",
    "# Estadístico F\n",
    "MS_entre = SCE / gl_entre  # Media cuadrática entre grupos\n",
    "MS_dentro = SCD / gl_dentro  # Media cuadrática dentro de grupos\n",
    "F_stat = MS_entre / MS_dentro  # Estadístico F\n",
    "\n",
    "# Valor crítico F (manual, usando aproximación de distribución F)\n",
    "alpha = 0.05  # Nivel de significancia\n",
    "f_critical = np.percentile(np.random.f(gl_entre, gl_dentro, size=100), 100 * (1 - alpha))\n",
    "\n",
    "# Simular valores de la distribución t con los grados de libertad calculados\n",
    "t_distribution = np.random.standard_t(df, size=100)\n",
    "\n",
    "# Proporción de valores mayores al valor absoluto de t_stat\n",
    "p_value = 2 * np.mean(np.abs(t_distribution) > np.abs(F_stat))\n",
    "\n",
    "print(\"\\n2. Prueba ANOVA:\")\n",
    "print(f\"  Estadístico F: {F_stat:.2f}\")\n",
    "print(f\"  Valor crítico F: {f_critical:.2f}\")\n",
    "print(f\"  P-valor: {p_value:.4e}\")  \n",
    "\n",
    "if F_stat > f_critical:\n",
    "    print(\"  Las diferencias en las medias de las ventas entre las tiendas SON significativas.\")\n",
    "else:\n",
    "    print(\"  No hay evidencia de diferencias significativas entre las medias de las ventas de las tiendas.\")\n"
   ]
  },
  {
   "cell_type": "markdown",
   "metadata": {},
   "source": [
    "3.  Identifiquen la tienda con mayor promedio de ventas y la tienda con menor promedio de ventas y realicen una prueba de hip´otesis para determinar si la diferencia entre ellas es distinta de cero o no"
   ]
  },
  {
   "cell_type": "code",
   "execution_count": 46,
   "metadata": {},
   "outputs": [
    {
     "name": "stdout",
     "output_type": "stream",
     "text": [
      "\n",
      "3. Promedios de ventas por tienda:\n",
      "  Santa Ana: 21842.40\n",
      "  La Floresta: 18049.11\n",
      "  Los Cedros: 19713.10\n",
      "  Palermo: 18851.66\n",
      "  Córdoba: 21784.30\n",
      "  Tienda con mayor promedio: Santa Ana (21842.40)\n",
      "  Tienda con menor promedio: La Floresta (18049.11)\n",
      "  Estadístico t: 16.23\n",
      "  P-valor: 0.0000e+00\n",
      "  Las diferencias entre las tiendas son significativas.\n"
     ]
    }
   ],
   "source": [
    "mean_sales = {tienda: df['Ventas'].mean() for tienda, df in data.items()}\n",
    "max_store = max(mean_sales, key=mean_sales.get)\n",
    "min_store = min(mean_sales, key=mean_sales.get)\n",
    "\n",
    "# Prueba de hipótesis entre tienda con mayor y menor promedio\n",
    "max_data = data[max_store]['Ventas']\n",
    "min_data = data[min_store]['Ventas']\n",
    "\n",
    "# Estadístico t manual\n",
    "n1, n2 = len(max_data), len(min_data)\n",
    "mean1, mean2 = max_data.mean(), min_data.mean()\n",
    "std1, std2 = max_data.std(), min_data.std()\n",
    "\n",
    "# Error estándar combinado\n",
    "pooled_std = np.sqrt(((n1 - 1) * std1 ** 2 + (n2 - 1) * std2 ** 2) / (n1 + n2 - 2))\n",
    "std_err_diff = pooled_std * np.sqrt(1 / n1 + 1 / n2)\n",
    "\n",
    "# Cálculo de t\n",
    "t_stat = (mean1 - mean2) / std_err_diff\n",
    "\n",
    "# Grados de libertad\n",
    "df = n1 + n2 - 2\n",
    "\n",
    "# Simular valores de la distribución t con los grados de libertad calculados\n",
    "t_distribution = np.random.standard_t(df, size=1000000)\n",
    "\n",
    "# Proporción de valores mayores al valor absoluto de t_stat\n",
    "p_value = 2 * np.mean(np.abs(t_distribution) > np.abs(t_stat))\n",
    "\n",
    "print(\"\\n3. Promedios de ventas por tienda:\")\n",
    "for tienda, promedio in mean_sales.items():\n",
    "    print(f\"  {tienda}: {promedio:.2f}\")\n",
    "\n",
    "print(f\"  Tienda con mayor promedio: {max_store} ({mean_sales[max_store]:.2f})\")\n",
    "print(f\"  Tienda con menor promedio: {min_store} ({mean_sales[min_store]:.2f})\")\n",
    "print(f\"  Estadístico t: {t_stat:.2f}\")\n",
    "print(f\"  P-valor: {p_value:.4e}\")  \n",
    "if p_value < 0.05:\n",
    "    print(\"  Las diferencias entre las tiendas son significativas.\")\n",
    "else:\n",
    "    print(\"  No hay evidencia suficiente para afirmar que las diferencias entre las tiendas son significativas.\")"
   ]
  }
 ],
 "metadata": {
  "kernelspec": {
   "display_name": "Python 3",
   "language": "python",
   "name": "python3"
  },
  "language_info": {
   "codemirror_mode": {
    "name": "ipython",
    "version": 3
   },
   "file_extension": ".py",
   "mimetype": "text/x-python",
   "name": "python",
   "nbconvert_exporter": "python",
   "pygments_lexer": "ipython3",
   "version": "3.12.3"
  }
 },
 "nbformat": 4,
 "nbformat_minor": 2
}
